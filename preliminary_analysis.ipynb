{
 "cells": [
  {
   "cell_type": "markdown",
   "metadata": {},
   "source": [
    "# Preliminary Analysis\n"
   ]
  },
  {
   "cell_type": "markdown",
   "metadata": {},
   "source": [
    "### Imports"
   ]
  },
  {
   "cell_type": "code",
   "execution_count": 1,
   "metadata": {},
   "outputs": [],
   "source": [
    "import pandas as pd\n",
    "import seaborn as sns"
   ]
  },
  {
   "cell_type": "markdown",
   "metadata": {},
   "source": [
    "### Load Dataset"
   ]
  },
  {
   "cell_type": "code",
   "execution_count": 2,
   "metadata": {},
   "outputs": [],
   "source": [
    "df = pd.read_csv(\"sudoku.csv\")"
   ]
  },
  {
   "cell_type": "markdown",
   "metadata": {},
   "source": [
    "### Basic Statistics"
   ]
  },
  {
   "cell_type": "code",
   "execution_count": 3,
   "metadata": {},
   "outputs": [
    {
     "data": {
      "text/html": [
       "<div>\n",
       "<style scoped>\n",
       "    .dataframe tbody tr th:only-of-type {\n",
       "        vertical-align: middle;\n",
       "    }\n",
       "\n",
       "    .dataframe tbody tr th {\n",
       "        vertical-align: top;\n",
       "    }\n",
       "\n",
       "    .dataframe thead th {\n",
       "        text-align: right;\n",
       "    }\n",
       "</style>\n",
       "<table border=\"1\" class=\"dataframe\">\n",
       "  <thead>\n",
       "    <tr style=\"text-align: right;\">\n",
       "      <th></th>\n",
       "      <th>id</th>\n",
       "      <th>puzzle</th>\n",
       "      <th>solution</th>\n",
       "      <th>clues</th>\n",
       "      <th>difficulty</th>\n",
       "    </tr>\n",
       "  </thead>\n",
       "  <tbody>\n",
       "    <tr>\n",
       "      <th>0</th>\n",
       "      <td>1</td>\n",
       "      <td>1..5.37..6.3..8.9......98...1.......8761.........</td>\n",
       "      <td>1985437266432785915276198439147352688761924352...</td>\n",
       "      <td>27</td>\n",
       "      <td>2.2</td>\n",
       "    </tr>\n",
       "    <tr>\n",
       "      <th>1</th>\n",
       "      <td>2</td>\n",
       "      <td>...81.....2........1.9..7...7..25.934.2..........</td>\n",
       "      <td>9348172567286534196159427381764258934523981673...</td>\n",
       "      <td>23</td>\n",
       "      <td>0.0</td>\n",
       "    </tr>\n",
       "    <tr>\n",
       "      <th>2</th>\n",
       "      <td>3</td>\n",
       "      <td>..5...74.3..6...19.....1..5...7...2.9....58..7...</td>\n",
       "      <td>2159837463876542194692713855387169249413258677...</td>\n",
       "      <td>25</td>\n",
       "      <td>2.6</td>\n",
       "    </tr>\n",
       "    <tr>\n",
       "      <th>3</th>\n",
       "      <td>4</td>\n",
       "      <td>........5.2...9....9..2...373..481.....36....5...</td>\n",
       "      <td>4738169256285397411954278637329481569413652785...</td>\n",
       "      <td>26</td>\n",
       "      <td>1.4</td>\n",
       "    </tr>\n",
       "    <tr>\n",
       "      <th>4</th>\n",
       "      <td>5</td>\n",
       "      <td>.4.1..............653.....1.8.9..74...24..91.....</td>\n",
       "      <td>9471536821286493576532874913819267455724389164...</td>\n",
       "      <td>25</td>\n",
       "      <td>1.1</td>\n",
       "    </tr>\n",
       "  </tbody>\n",
       "</table>\n",
       "</div>"
      ],
      "text/plain": [
       "   id                                             puzzle  \\\n",
       "0   1  1..5.37..6.3..8.9......98...1.......8761.........   \n",
       "1   2  ...81.....2........1.9..7...7..25.934.2..........   \n",
       "2   3  ..5...74.3..6...19.....1..5...7...2.9....58..7...   \n",
       "3   4  ........5.2...9....9..2...373..481.....36....5...   \n",
       "4   5  .4.1..............653.....1.8.9..74...24..91.....   \n",
       "\n",
       "                                            solution  clues  difficulty  \n",
       "0  1985437266432785915276198439147352688761924352...     27         2.2  \n",
       "1  9348172567286534196159427381764258934523981673...     23         0.0  \n",
       "2  2159837463876542194692713855387169249413258677...     25         2.6  \n",
       "3  4738169256285397411954278637329481569413652785...     26         1.4  \n",
       "4  9471536821286493576532874913819267455724389164...     25         1.1  "
      ]
     },
     "execution_count": 3,
     "metadata": {},
     "output_type": "execute_result"
    }
   ],
   "source": [
    "df.head()"
   ]
  },
  {
   "cell_type": "code",
   "execution_count": 4,
   "metadata": {},
   "outputs": [
    {
     "data": {
      "text/html": [
       "<div>\n",
       "<style scoped>\n",
       "    .dataframe tbody tr th:only-of-type {\n",
       "        vertical-align: middle;\n",
       "    }\n",
       "\n",
       "    .dataframe tbody tr th {\n",
       "        vertical-align: top;\n",
       "    }\n",
       "\n",
       "    .dataframe thead th {\n",
       "        text-align: right;\n",
       "    }\n",
       "</style>\n",
       "<table border=\"1\" class=\"dataframe\">\n",
       "  <thead>\n",
       "    <tr style=\"text-align: right;\">\n",
       "      <th></th>\n",
       "      <th>id</th>\n",
       "      <th>puzzle</th>\n",
       "      <th>solution</th>\n",
       "      <th>clues</th>\n",
       "      <th>difficulty</th>\n",
       "    </tr>\n",
       "  </thead>\n",
       "  <tbody>\n",
       "    <tr>\n",
       "      <th>2999995</th>\n",
       "      <td>2999996</td>\n",
       "      <td>7..........2......9.6.28.1....28..3.......5.4....</td>\n",
       "      <td>7834512964129768539563284175712846392691375848...</td>\n",
       "      <td>23</td>\n",
       "      <td>5.0</td>\n",
       "    </tr>\n",
       "    <tr>\n",
       "      <th>2999996</th>\n",
       "      <td>2999997</td>\n",
       "      <td>.5......2...58...1..7..16....2...4...849.3...9...</td>\n",
       "      <td>1594368722465879318372916543126754896849237159...</td>\n",
       "      <td>24</td>\n",
       "      <td>4.1</td>\n",
       "    </tr>\n",
       "    <tr>\n",
       "      <th>2999997</th>\n",
       "      <td>2999998</td>\n",
       "      <td>.....9.48...6..3....4.87.5...71.2..5.....6..9....</td>\n",
       "      <td>1735296482856413976943872514371928655218764399...</td>\n",
       "      <td>25</td>\n",
       "      <td>0.0</td>\n",
       "    </tr>\n",
       "    <tr>\n",
       "      <th>2999998</th>\n",
       "      <td>2999999</td>\n",
       "      <td>......23....8..796..5.......987.1....342.59..6...</td>\n",
       "      <td>8764192354138527969253761842987416531342659786...</td>\n",
       "      <td>24</td>\n",
       "      <td>0.0</td>\n",
       "    </tr>\n",
       "    <tr>\n",
       "      <th>2999999</th>\n",
       "      <td>3000000</td>\n",
       "      <td>7.4..6.8.6....85.4.9........1..........2.54......</td>\n",
       "      <td>7541369826237985141984526734153697288762154399...</td>\n",
       "      <td>24</td>\n",
       "      <td>1.0</td>\n",
       "    </tr>\n",
       "  </tbody>\n",
       "</table>\n",
       "</div>"
      ],
      "text/plain": [
       "              id                                             puzzle  \\\n",
       "2999995  2999996  7..........2......9.6.28.1....28..3.......5.4....   \n",
       "2999996  2999997  .5......2...58...1..7..16....2...4...849.3...9...   \n",
       "2999997  2999998  .....9.48...6..3....4.87.5...71.2..5.....6..9....   \n",
       "2999998  2999999  ......23....8..796..5.......987.1....342.59..6...   \n",
       "2999999  3000000  7.4..6.8.6....85.4.9........1..........2.54......   \n",
       "\n",
       "                                                  solution  clues  difficulty  \n",
       "2999995  7834512964129768539563284175712846392691375848...     23         5.0  \n",
       "2999996  1594368722465879318372916543126754896849237159...     24         4.1  \n",
       "2999997  1735296482856413976943872514371928655218764399...     25         0.0  \n",
       "2999998  8764192354138527969253761842987416531342659786...     24         0.0  \n",
       "2999999  7541369826237985141984526734153697288762154399...     24         1.0  "
      ]
     },
     "execution_count": 4,
     "metadata": {},
     "output_type": "execute_result"
    }
   ],
   "source": [
    "df.tail()"
   ]
  },
  {
   "cell_type": "code",
   "execution_count": 5,
   "metadata": {},
   "outputs": [
    {
     "name": "stdout",
     "output_type": "stream",
     "text": [
      "<class 'pandas.core.frame.DataFrame'>\n",
      "RangeIndex: 3000000 entries, 0 to 2999999\n",
      "Data columns (total 5 columns):\n",
      " #   Column      Dtype  \n",
      "---  ------      -----  \n",
      " 0   id          int64  \n",
      " 1   puzzle      object \n",
      " 2   solution    object \n",
      " 3   clues       int64  \n",
      " 4   difficulty  float64\n",
      "dtypes: float64(1), int64(2), object(2)\n",
      "memory usage: 114.4+ MB\n"
     ]
    }
   ],
   "source": [
    "df.info()"
   ]
  },
  {
   "cell_type": "code",
   "execution_count": 6,
   "metadata": {},
   "outputs": [
    {
     "data": {
      "text/html": [
       "<div>\n",
       "<style scoped>\n",
       "    .dataframe tbody tr th:only-of-type {\n",
       "        vertical-align: middle;\n",
       "    }\n",
       "\n",
       "    .dataframe tbody tr th {\n",
       "        vertical-align: top;\n",
       "    }\n",
       "\n",
       "    .dataframe thead th {\n",
       "        text-align: right;\n",
       "    }\n",
       "</style>\n",
       "<table border=\"1\" class=\"dataframe\">\n",
       "  <thead>\n",
       "    <tr style=\"text-align: right;\">\n",
       "      <th></th>\n",
       "      <th>id</th>\n",
       "      <th>clues</th>\n",
       "      <th>difficulty</th>\n",
       "    </tr>\n",
       "  </thead>\n",
       "  <tbody>\n",
       "    <tr>\n",
       "      <th>count</th>\n",
       "      <td>3.000000e+06</td>\n",
       "      <td>3.000000e+06</td>\n",
       "      <td>3.000000e+06</td>\n",
       "    </tr>\n",
       "    <tr>\n",
       "      <th>mean</th>\n",
       "      <td>1.500000e+06</td>\n",
       "      <td>2.430547e+01</td>\n",
       "      <td>1.238623e+00</td>\n",
       "    </tr>\n",
       "    <tr>\n",
       "      <th>std</th>\n",
       "      <td>8.660255e+05</td>\n",
       "      <td>1.102716e+00</td>\n",
       "      <td>1.272755e+00</td>\n",
       "    </tr>\n",
       "    <tr>\n",
       "      <th>min</th>\n",
       "      <td>1.000000e+00</td>\n",
       "      <td>1.900000e+01</td>\n",
       "      <td>0.000000e+00</td>\n",
       "    </tr>\n",
       "    <tr>\n",
       "      <th>25%</th>\n",
       "      <td>7.500008e+05</td>\n",
       "      <td>2.400000e+01</td>\n",
       "      <td>0.000000e+00</td>\n",
       "    </tr>\n",
       "    <tr>\n",
       "      <th>50%</th>\n",
       "      <td>1.500000e+06</td>\n",
       "      <td>2.400000e+01</td>\n",
       "      <td>1.200000e+00</td>\n",
       "    </tr>\n",
       "    <tr>\n",
       "      <th>75%</th>\n",
       "      <td>2.250000e+06</td>\n",
       "      <td>2.500000e+01</td>\n",
       "      <td>2.200000e+00</td>\n",
       "    </tr>\n",
       "    <tr>\n",
       "      <th>max</th>\n",
       "      <td>3.000000e+06</td>\n",
       "      <td>3.100000e+01</td>\n",
       "      <td>8.500000e+00</td>\n",
       "    </tr>\n",
       "  </tbody>\n",
       "</table>\n",
       "</div>"
      ],
      "text/plain": [
       "                 id         clues    difficulty\n",
       "count  3.000000e+06  3.000000e+06  3.000000e+06\n",
       "mean   1.500000e+06  2.430547e+01  1.238623e+00\n",
       "std    8.660255e+05  1.102716e+00  1.272755e+00\n",
       "min    1.000000e+00  1.900000e+01  0.000000e+00\n",
       "25%    7.500008e+05  2.400000e+01  0.000000e+00\n",
       "50%    1.500000e+06  2.400000e+01  1.200000e+00\n",
       "75%    2.250000e+06  2.500000e+01  2.200000e+00\n",
       "max    3.000000e+06  3.100000e+01  8.500000e+00"
      ]
     },
     "execution_count": 6,
     "metadata": {},
     "output_type": "execute_result"
    }
   ],
   "source": [
    "df.describe()"
   ]
  },
  {
   "cell_type": "markdown",
   "metadata": {},
   "source": [
    "### Clue Distribution\n",
    "We can see that the clues feature is somewhat normally distributed and centered at about 24. The vast majority of clues are between 23 and 26."
   ]
  },
  {
   "cell_type": "code",
   "execution_count": 7,
   "metadata": {},
   "outputs": [
    {
     "name": "stdout",
     "output_type": "stream",
     "text": [
      "24    1058407\n",
      "25     865548\n",
      "23     556412\n",
      "26     327826\n",
      "22     115931\n",
      "27      61228\n",
      "21       8204\n",
      "28       5926\n",
      "29        297\n",
      "20        210\n",
      "30          9\n",
      "31          1\n",
      "19          1\n",
      "Name: clues, dtype: int64\n"
     ]
    },
    {
     "data": {
      "text/plain": [
       "<AxesSubplot:xlabel='clues', ylabel='count'>"
      ]
     },
     "execution_count": 7,
     "metadata": {},
     "output_type": "execute_result"
    },
    {
     "data": {
      "image/png": "[encoded data removed]",
      "text/plain": [
       "<Figure size 432x288 with 1 Axes>"
      ]
     },
     "metadata": {
      "needs_background": "light"
     },
     "output_type": "display_data"
    }
   ],
   "source": [
    "print(df.clues.value_counts())\n",
    "sns.countplot(data=df, x=\"clues\")"
   ]
  },
  {
   "cell_type": "markdown",
   "metadata": {},
   "source": [
    "### Difficulty Distribution\n",
    "We can see that the difficulty feature is very left skewed. The vast majority of difficulties are 0. Generally, as the difficulty increases, there are less samples. This may make it difficult to find patterns for higher difficulties because there are very little samples to train on."
   ]
  },
  {
   "cell_type": "code",
   "execution_count": 8,
   "metadata": {},
   "outputs": [
    {
     "name": "stdout",
     "output_type": "stream",
     "text": [
      "Counts:\n",
      " 0.0    1294081\n",
      "1.0      91570\n",
      "1.4      85081\n",
      "1.5      84909\n",
      "1.6      83935\n",
      "        ...   \n",
      "8.5          1\n",
      "7.8          1\n",
      "8.3          1\n",
      "8.2          1\n",
      "8.4          1\n",
      "Name: difficulty, Length: 76, dtype: int64\n",
      "\n",
      "More than 100 instances:\n",
      " 0.0    1294081\n",
      "1.0      91570\n",
      "1.4      85081\n",
      "1.5      84909\n",
      "1.6      83935\n",
      "1.3      83737\n",
      "1.7      81066\n",
      "1.2      78932\n",
      "1.8      78911\n",
      "1.9      76141\n",
      "2.0      73067\n",
      "2.1      70059\n",
      "1.1      68137\n",
      "2.2      66185\n",
      "2.3      62485\n",
      "2.4      58971\n",
      "2.5      55218\n",
      "2.6      51266\n",
      "2.7      48165\n",
      "2.8      45056\n",
      "2.9      40702\n",
      "3.0      37421\n",
      "3.1      34114\n",
      "3.2      31191\n",
      "3.3      27770\n",
      "3.4      25096\n",
      "3.5      22476\n",
      "3.6      20098\n",
      "3.7      17528\n",
      "3.8      15585\n",
      "3.9      13623\n",
      "4.0      11795\n",
      "4.1      10226\n",
      "4.2       9016\n",
      "4.3       7607\n",
      "4.4       6510\n",
      "4.5       5607\n",
      "4.6       4651\n",
      "4.7       3970\n",
      "4.8       3258\n",
      "4.9       2762\n",
      "5.0       2236\n",
      "5.1       1930\n",
      "5.2       1544\n",
      "5.3       1200\n",
      "5.4       1027\n",
      "5.5        794\n",
      "5.6        639\n",
      "5.7        554\n",
      "5.8        425\n",
      "5.9        368\n",
      "6.0        271\n",
      "6.1        238\n",
      "6.2        164\n",
      "6.3        133\n",
      "6.4        119\n",
      "Name: difficulty, dtype: int64\n"
     ]
    },
    {
     "data": {
      "text/plain": [
       "<AxesSubplot:xlabel='difficulty', ylabel='count'>"
      ]
     },
     "execution_count": 8,
     "metadata": {},
     "output_type": "execute_result"
    },
    {
     "data": {
      "image/png": "[encoded data removed]",
      "text/plain": [
       "<Figure size 432x288 with 1 Axes>"
      ]
     },
     "metadata": {
      "needs_background": "light"
     },
     "output_type": "display_data"
    }
   ],
   "source": [
    "difficulties = df.difficulty.value_counts()\n",
    "print(\"Counts:\\n\", difficulties)\n",
    "print()\n",
    "print(\"More than 100 instances:\\n\", difficulties.loc[difficulties > 100])\n",
    "sns.countplot(data=df, x=\"difficulty\")"
   ]
  }
 ],
 "metadata": {
  "interpreter": {
   "hash": "b9c96681d79d04c7d23817de56eab8b10a5f654401a2a70d7d3949c6c25e26e1"
  },
  "kernelspec": {
   "display_name": "Python 3 (ipykernel)",
   "language": "python",
   "name": "python3"
  },
  "language_info": {
   "codemirror_mode": {
    "name": "ipython",
    "version": 3
   },
   "file_extension": ".py",
   "mimetype": "text/x-python",
   "name": "python",
   "nbconvert_exporter": "python",
   "pygments_lexer": "ipython3",
   "version": "3.8.11"
  }
 },
 "nbformat": 4,
 "nbformat_minor": 2
}
